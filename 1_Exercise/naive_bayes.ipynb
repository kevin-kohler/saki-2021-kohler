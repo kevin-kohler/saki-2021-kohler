{
 "metadata": {
  "language_info": {
   "codemirror_mode": {
    "name": "ipython",
    "version": 3
   },
   "file_extension": ".py",
   "mimetype": "text/x-python",
   "name": "python",
   "nbconvert_exporter": "python",
   "pygments_lexer": "ipython3",
   "version": "3.8.5"
  },
  "orig_nbformat": 2,
  "kernelspec": {
   "name": "python385jvsc74a57bd0d188549868dd9b57c79410266c16c0a520d2a7d56fddc347ee11b41cf39d63b9",
   "display_name": "Python 3.8.5 32-bit"
  },
  "metadata": {
   "interpreter": {
    "hash": "d188549868dd9b57c79410266c16c0a520d2a7d56fddc347ee11b41cf39d63b9"
   }
  }
 },
 "nbformat": 4,
 "nbformat_minor": 2,
 "cells": [
  {
   "cell_type": "code",
   "execution_count": null,
   "metadata": {},
   "outputs": [],
   "source": [
    "# Import libraries\n",
    "import numpy as np\n",
    "import pandas as pd\n",
    "import seaborn as sns\n",
    "from sklearn.feature_extraction.text import TfidfVectorizer\n",
    "from stop_words import get_stop_words\n",
    "from sklearn.pipeline import Pipeline\n",
    "from sklearn.model_selection import train_test_split, cross_val_score, cross_validate\n",
    "from sklearn.naive_bayes import MultinomialNB\n",
    "from sklearn.metrics import accuracy_score, classification_report, confusion_matrix\n",
    "\n",
    "### GridSearchCV for parameter tuning"
   ]
  },
  {
   "cell_type": "code",
   "execution_count": null,
   "metadata": {},
   "outputs": [],
   "source": [
    "# Import data, pick relevant columns and concatenate them to a single string\n",
    "data = pd.read_csv(\"transaction_data.csv\", sep = \";\", index_col = 0)\n",
    "X = data[[\"Buchungstext\", \"Verwendungszweck\", \"Beguenstigter_Zahlungspflichtiger\", \"Betrag\"]].agg(\" \".join, axis=1)\n",
    "y = data[[\"Label\"]]"
   ]
  },
  {
   "cell_type": "code",
   "execution_count": null,
   "metadata": {},
   "outputs": [],
   "source": [
    "# Split data into training & test set (X: features, e.g. \"Verwendungszweck\" / y: label to be predicted)\n",
    "X_train, X_test, y_train, y_test = train_test_split(X, y, test_size = .3, random_state = 2021)"
   ]
  },
  {
   "source": [
    "# Apply vectorization and TF IDF transformation\n",
    "vect = TfidfVectorizer(stop_words = get_stop_words(\"german\"), ngram_range = (1,3))\n",
    "vect.fit(X_train)\n",
    "X_train_count = vect.transform(X_train)\n",
    "X_test_count = vect.transform(X_test)"
   ],
   "cell_type": "code",
   "metadata": {},
   "execution_count": null,
   "outputs": []
  },
  {
   "cell_type": "code",
   "execution_count": null,
   "metadata": {},
   "outputs": [],
   "source": [
    "# Implement model and train it\n",
    "model = MultinomialNB()\n",
    "model.fit(X_train_count, y_train.values.ravel())"
   ]
  },
  {
   "source": [
    "# Test predictive quality of multinomial Naive Bayes classifier on test data and display quality indicator accuracy\n",
    "#y_predict = model.predict(X_test_count)\n",
    "#accuracy_rating = accuracy_score(y_test, y_predict)\n",
    "#print(\"Accuracy score: \" + str(accuracy_rating))"
   ],
   "cell_type": "code",
   "metadata": {},
   "execution_count": null,
   "outputs": []
  },
  {
   "cell_type": "code",
   "execution_count": null,
   "metadata": {},
   "outputs": [],
   "source": [
    "# Implement pipeline to prevent data leakage and cross-validate parameters\n",
    "pipe = Pipeline([\n",
    "    (\"vect\", TfidfVectorizer(stop_words = get_stop_words(\"german\"), ngram_range = (1,3))),\n",
    "    (\"model\", MultinomialNB())\n",
    "])"
   ]
  },
  {
   "cell_type": "code",
   "execution_count": null,
   "metadata": {},
   "outputs": [],
   "source": [
    "# Test predictive quality of multinomial Naive Bayes classifier on test data and display quality indicators\n",
    "print(classification_report(y_test, y_predict))"
   ]
  },
  {
   "cell_type": "code",
   "execution_count": null,
   "metadata": {},
   "outputs": [],
   "source": [
    "# Perform cross-validation for more generalisable results\n",
    "cross_val = cross_val_score(pipe, X, y.values.ravel(), cv = 10).mean()\n",
    "print(\"Cross-validated accuracy score: \" + str(cross_val))"
   ]
  },
  {
   "cell_type": "code",
   "execution_count": null,
   "metadata": {},
   "outputs": [],
   "source": [
    "# Print confusion matrix\n",
    "cf_matrix = confusion_matrix(y_test, y_predict)\n",
    "sns.heatmap(cf_matrix/np.sum(cf_matrix), annot = True, fmt = \".2%\", cmap = sns.light_palette(\"seagreen\", as_cmap = True))"
   ]
  },
  {
   "cell_type": "code",
   "execution_count": null,
   "metadata": {},
   "outputs": [],
   "source": []
  }
 ]
}