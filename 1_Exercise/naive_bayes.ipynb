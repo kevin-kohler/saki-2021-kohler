{
 "metadata": {
  "language_info": {
   "codemirror_mode": {
    "name": "ipython",
    "version": 3
   },
   "file_extension": ".py",
   "mimetype": "text/x-python",
   "name": "python",
   "nbconvert_exporter": "python",
   "pygments_lexer": "ipython3",
   "version": "3.8.5"
  },
  "orig_nbformat": 2,
  "kernelspec": {
   "name": "python385jvsc74a57bd0d188549868dd9b57c79410266c16c0a520d2a7d56fddc347ee11b41cf39d63b9",
   "display_name": "Python 3.8.5 32-bit"
  },
  "metadata": {
   "interpreter": {
    "hash": "d188549868dd9b57c79410266c16c0a520d2a7d56fddc347ee11b41cf39d63b9"
   }
  }
 },
 "nbformat": 4,
 "nbformat_minor": 2,
 "cells": [
  {
   "cell_type": "code",
   "execution_count": 1,
   "metadata": {},
   "outputs": [],
   "source": [
    "# Import libraries\n",
    "import numpy as np\n",
    "import pandas as pd\n",
    "from sklearn.feature_extraction.text import TfidfVectorizer\n",
    "from stop_words import get_stop_words\n",
    "from sklearn.model_selection import train_test_split, cross_val_score\n",
    "from sklearn.naive_bayes import MultinomialNB\n",
    "from sklearn.metrics import accuracy_score"
   ]
  },
  {
   "cell_type": "code",
   "execution_count": 2,
   "metadata": {},
   "outputs": [],
   "source": [
    "# Import data, pick relevant columns and concatenate them\n",
    "# Replace all non-alphanumerical chars (except German mutation and slashes for booking texts) with a space\n",
    "data = pd.read_csv(\"transaction_data.csv\", sep = \";\", index_col= 0)\n",
    "X = data[[\"Buchungstext\", \"Verwendungszweck\", \"Beguenstigter_Zahlungspflichtiger\", \"Betrag\"]].agg(\" \".join, axis=1)\n",
    "y = data.Label"
   ]
  },
  {
   "source": [
    "# Split data into training & test set (X: independent variable(s), e.g. \"Verwendungszweck\" / y: dependent variable (Label))\n",
    "X_train, X_test, y_train, y_test = train_test_split(X, y, test_size = 0.3)"
   ],
   "cell_type": "code",
   "metadata": {},
   "execution_count": 3,
   "outputs": []
  },
  {
   "cell_type": "code",
   "execution_count": 4,
   "metadata": {},
   "outputs": [],
   "source": [
    "# Vectorize data set into vocab of single words (\"tokens\") via TF-IDF (assessing term relevance in document collection)\n",
    "# Remove German stopwords (e.g. \"alle\", \"bis\") in the process\n",
    "tokens = TfidfVectorizer(stop_words = get_stop_words(\"german\"), ngram_range = (1,3))\n",
    "tokens.fit(X_train)\n",
    "\n",
    "X_train_count = tokens.transform(X_train).toarray()\n",
    "X_test_count = tokens.transform(X_test).toarray()"
   ]
  },
  {
   "cell_type": "code",
   "execution_count": 5,
   "metadata": {},
   "outputs": [
    {
     "output_type": "execute_result",
     "data": {
      "text/plain": [
       "MultinomialNB()"
      ]
     },
     "metadata": {},
     "execution_count": 5
    }
   ],
   "source": [
    "# Define model and train it\n",
    "model = MultinomialNB()\n",
    "model.fit(X_train_count, y_train)"
   ]
  },
  {
   "cell_type": "code",
   "execution_count": 6,
   "metadata": {},
   "outputs": [
    {
     "output_type": "stream",
     "name": "stdout",
     "text": [
      "0.9206349206349206\n",
      "[0.69230769 0.76923077 0.76923077 0.66666667 0.58333333]\n",
      "C:\\Users\\Kevin Kohler\\AppData\\Local\\Programs\\Python\\Python38-32\\lib\\site-packages\\sklearn\\model_selection\\_split.py:666: UserWarning: The least populated class in y has only 4 members, which is less than n_splits=5.\n",
      "  warnings.warn((\"The least populated class in y has only %d\"\n"
     ]
    }
   ],
   "source": [
    "# Test predictive quality of multinomial Naive Bayes classifier on test data and display quality indicators\n",
    "y_predict = model.predict(X_test_count)\n",
    "print(accuracy_score(y_test, y_predict))\n",
    "\n",
    "# Perform cross-validation for more generalisable results\n",
    "cross_val = cross_val_score(model, X_test_count, y_test, cv = 5)\n",
    "print(cross_val)"
   ]
  }
 ]
}