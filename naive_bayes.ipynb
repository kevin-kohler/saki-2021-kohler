{
 "metadata": {
  "language_info": {
   "codemirror_mode": {
    "name": "ipython",
    "version": 3
   },
   "file_extension": ".py",
   "mimetype": "text/x-python",
   "name": "python",
   "nbconvert_exporter": "python",
   "pygments_lexer": "ipython3",
   "version": "3.8.5"
  },
  "orig_nbformat": 2,
  "kernelspec": {
   "name": "python385jvsc74a57bd0d188549868dd9b57c79410266c16c0a520d2a7d56fddc347ee11b41cf39d63b9",
   "display_name": "Python 3.8.5 32-bit"
  },
  "metadata": {
   "interpreter": {
    "hash": "d188549868dd9b57c79410266c16c0a520d2a7d56fddc347ee11b41cf39d63b9"
   }
  }
 },
 "nbformat": 4,
 "nbformat_minor": 2,
 "cells": [
  {
   "cell_type": "code",
   "execution_count": 5,
   "metadata": {},
   "outputs": [],
   "source": [
    "# Import libraries\n",
    "import numpy as np\n",
    "import pandas as pd\n",
    "from sklearn.feature_extraction.text import CountVectorizer"
   ]
  },
  {
   "cell_type": "code",
   "execution_count": 6,
   "metadata": {},
   "outputs": [
    {
     "output_type": "execute_result",
     "data": {
      "text/plain": [
       "               Buchungstext  \\\n",
       "0             Lohn / Gehalt   \n",
       "1                     Miete   \n",
       "2                   Bargeld   \n",
       "3  Lebensmittel / Getraenke   \n",
       "4            Spontanausgabe   \n",
       "\n",
       "                                    Verwendungszweck  \\\n",
       "0  Gehalt Adorsys GmbH & Co. KG End-To-End-Ref.: ...   \n",
       "1  Byladem1Sbt De12773501123456789889 Miete Beuth...   \n",
       "2  21.07/16.34Uhr Nuernberg All Eur 70,00 Geb.Eur...   \n",
       "3  2831 Edeka Neubauer Nuernb.//Nuernb 2016-07-20...   \n",
       "4                                             Amazon   \n",
       "\n",
       "  Beguenstigter/Zahlungspflichtiger             Kontonummer   Betrag  \\\n",
       "0             Adorsys GmbH & Co. KG              7807800780  2000.00   \n",
       "1                      Georg Tasche  DE31251900019123456780  -670.00   \n",
       "2                           Bargeld              9999900780   -70.00   \n",
       "3                     Kartenzahlung              9736000780   -73.21   \n",
       "4                  neue Playstation              9988776655     -363   \n",
       "\n",
       "              label  \n",
       "0            income  \n",
       "1            living  \n",
       "2           private  \n",
       "3  standardOfLiving  \n",
       "4           leisure  "
      ],
      "text/html": "<div>\n<style scoped>\n    .dataframe tbody tr th:only-of-type {\n        vertical-align: middle;\n    }\n\n    .dataframe tbody tr th {\n        vertical-align: top;\n    }\n\n    .dataframe thead th {\n        text-align: right;\n    }\n</style>\n<table border=\"1\" class=\"dataframe\">\n  <thead>\n    <tr style=\"text-align: right;\">\n      <th></th>\n      <th>Buchungstext</th>\n      <th>Verwendungszweck</th>\n      <th>Beguenstigter/Zahlungspflichtiger</th>\n      <th>Kontonummer</th>\n      <th>Betrag</th>\n      <th>label</th>\n    </tr>\n  </thead>\n  <tbody>\n    <tr>\n      <th>0</th>\n      <td>Lohn / Gehalt</td>\n      <td>Gehalt Adorsys GmbH &amp; Co. KG End-To-End-Ref.: ...</td>\n      <td>Adorsys GmbH &amp; Co. KG</td>\n      <td>7807800780</td>\n      <td>2000.00</td>\n      <td>income</td>\n    </tr>\n    <tr>\n      <th>1</th>\n      <td>Miete</td>\n      <td>Byladem1Sbt De12773501123456789889 Miete Beuth...</td>\n      <td>Georg Tasche</td>\n      <td>DE31251900019123456780</td>\n      <td>-670.00</td>\n      <td>living</td>\n    </tr>\n    <tr>\n      <th>2</th>\n      <td>Bargeld</td>\n      <td>21.07/16.34Uhr Nuernberg All Eur 70,00 Geb.Eur...</td>\n      <td>Bargeld</td>\n      <td>9999900780</td>\n      <td>-70.00</td>\n      <td>private</td>\n    </tr>\n    <tr>\n      <th>3</th>\n      <td>Lebensmittel / Getraenke</td>\n      <td>2831 Edeka Neubauer Nuernb.//Nuernb 2016-07-20...</td>\n      <td>Kartenzahlung</td>\n      <td>9736000780</td>\n      <td>-73.21</td>\n      <td>standardOfLiving</td>\n    </tr>\n    <tr>\n      <th>4</th>\n      <td>Spontanausgabe</td>\n      <td>Amazon</td>\n      <td>neue Playstation</td>\n      <td>9988776655</td>\n      <td>-363</td>\n      <td>leisure</td>\n    </tr>\n  </tbody>\n</table>\n</div>"
     },
     "metadata": {},
     "execution_count": 6
    }
   ],
   "source": [
    "# Import data, pick relevant columns and convert to Pandas dataframe\n",
    "Data = pd.read_csv(\"C:/Users/Public/Coding/SAKI/1_Exercise/transaction_data.csv\", sep = ';', usecols = [ \"Buchungstext\", \"Verwendungszweck\", \"Beguenstigter/Zahlungspflichtiger\", \"Kontonummer\", \"Betrag\", \"label\" ])\n",
    "Data.head()"
   ]
  },
  {
   "cell_type": "code",
   "execution_count": 8,
   "metadata": {},
   "outputs": [
    {
     "output_type": "stream",
     "name": "stdout",
     "text": [
      "CountVectorizer()\n"
     ]
    }
   ],
   "source": [
    "# Convert single \n",
    "Vector = CountVectorizer(stop_words=\"German\")"
   ]
  },
  {
   "cell_type": "code",
   "execution_count": null,
   "metadata": {},
   "outputs": [],
   "source": []
  }
 ]
}